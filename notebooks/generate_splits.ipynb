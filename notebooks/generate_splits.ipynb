{
 "cells": [
  {
   "cell_type": "code",
   "execution_count": 32,
   "id": "d9f359d6",
   "metadata": {
    "pycharm": {
     "name": "#%%\n"
    }
   },
   "outputs": [],
   "source": [
    "from glob import glob\n",
    "import pandas as pd\n",
    "from sklearn.utils import shuffle"
   ]
  },
  {
   "cell_type": "code",
   "execution_count": 52,
   "id": "76b2d02b",
   "metadata": {
    "pycharm": {
     "name": "#%%\n"
    }
   },
   "outputs": [],
   "source": [
    "test_data_path = \"/home/evgenii/Desktop/KneesOA/data/test/\"\n",
    "train_data_path = \"/home/evgenii/Desktop/KneesOA/data/train/\"\n",
    "val_data_path = \"/home/evgenii/Desktop/KneesOA/data/val/\""
   ]
  },
  {
   "cell_type": "code",
   "execution_count": 53,
   "id": "e1b5d618",
   "metadata": {
    "pycharm": {
     "name": "#%%\n"
    }
   },
   "outputs": [],
   "source": [
    "def gen_split(base_path):\n",
    "    targets = []\n",
    "    paths = []\n",
    "    for stage in [\"0\", \"1\", \"2\", \"3\", \"4\"]:\n",
    "        files = glob(base_path + stage + \"/*\")\n",
    "        stage_targets = [int(stage)] * len(files)\n",
    "        paths.extend(files)\n",
    "        targets.extend(stage_targets)\n",
    "    assert len(targets) == len(paths), f\"T: {len(targets)} P: {len(paths)}\"\n",
    "    frame =  shuffle(pd.DataFrame({\"img_path\": paths, \"target\": targets})).reset_index(drop=True)\n",
    "    frame.to_csv(f\"/home/evgenii/Desktop/KneesOA/splits/{base_path.split('/')[-2]}.csv\")\n",
    "    return frame"
   ]
  },
  {
   "cell_type": "code",
   "execution_count": 54,
   "id": "82f703c0",
   "metadata": {
    "scrolled": true,
    "pycharm": {
     "name": "#%%\n"
    }
   },
   "outputs": [
    {
     "data": {
      "text/html": [
       "<div>\n",
       "<style scoped>\n",
       "    .dataframe tbody tr th:only-of-type {\n",
       "        vertical-align: middle;\n",
       "    }\n",
       "\n",
       "    .dataframe tbody tr th {\n",
       "        vertical-align: top;\n",
       "    }\n",
       "\n",
       "    .dataframe thead th {\n",
       "        text-align: right;\n",
       "    }\n",
       "</style>\n",
       "<table border=\"1\" class=\"dataframe\">\n",
       "  <thead>\n",
       "    <tr style=\"text-align: right;\">\n",
       "      <th></th>\n",
       "      <th>img_path</th>\n",
       "      <th>target</th>\n",
       "    </tr>\n",
       "  </thead>\n",
       "  <tbody>\n",
       "    <tr>\n",
       "      <th>0</th>\n",
       "      <td>/home/evgenii/Desktop/KneesOA/data/train/0/972...</td>\n",
       "      <td>0</td>\n",
       "    </tr>\n",
       "    <tr>\n",
       "      <th>1</th>\n",
       "      <td>/home/evgenii/Desktop/KneesOA/data/train/3/999...</td>\n",
       "      <td>3</td>\n",
       "    </tr>\n",
       "    <tr>\n",
       "      <th>2</th>\n",
       "      <td>/home/evgenii/Desktop/KneesOA/data/train/0/953...</td>\n",
       "      <td>0</td>\n",
       "    </tr>\n",
       "    <tr>\n",
       "      <th>3</th>\n",
       "      <td>/home/evgenii/Desktop/KneesOA/data/train/0/992...</td>\n",
       "      <td>0</td>\n",
       "    </tr>\n",
       "    <tr>\n",
       "      <th>4</th>\n",
       "      <td>/home/evgenii/Desktop/KneesOA/data/train/2/979...</td>\n",
       "      <td>2</td>\n",
       "    </tr>\n",
       "    <tr>\n",
       "      <th>...</th>\n",
       "      <td>...</td>\n",
       "      <td>...</td>\n",
       "    </tr>\n",
       "    <tr>\n",
       "      <th>6377</th>\n",
       "      <td>/home/evgenii/Desktop/KneesOA/data/train/1/953...</td>\n",
       "      <td>1</td>\n",
       "    </tr>\n",
       "    <tr>\n",
       "      <th>6378</th>\n",
       "      <td>/home/evgenii/Desktop/KneesOA/data/train/0/908...</td>\n",
       "      <td>0</td>\n",
       "    </tr>\n",
       "    <tr>\n",
       "      <th>6379</th>\n",
       "      <td>/home/evgenii/Desktop/KneesOA/data/train/0/933...</td>\n",
       "      <td>0</td>\n",
       "    </tr>\n",
       "    <tr>\n",
       "      <th>6380</th>\n",
       "      <td>/home/evgenii/Desktop/KneesOA/data/train/4/931...</td>\n",
       "      <td>4</td>\n",
       "    </tr>\n",
       "    <tr>\n",
       "      <th>6381</th>\n",
       "      <td>/home/evgenii/Desktop/KneesOA/data/train/0/995...</td>\n",
       "      <td>0</td>\n",
       "    </tr>\n",
       "  </tbody>\n",
       "</table>\n",
       "<p>6382 rows × 2 columns</p>\n",
       "</div>"
      ],
      "text/plain": [
       "                                               img_path  target\n",
       "0     /home/evgenii/Desktop/KneesOA/data/train/0/972...       0\n",
       "1     /home/evgenii/Desktop/KneesOA/data/train/3/999...       3\n",
       "2     /home/evgenii/Desktop/KneesOA/data/train/0/953...       0\n",
       "3     /home/evgenii/Desktop/KneesOA/data/train/0/992...       0\n",
       "4     /home/evgenii/Desktop/KneesOA/data/train/2/979...       2\n",
       "...                                                 ...     ...\n",
       "6377  /home/evgenii/Desktop/KneesOA/data/train/1/953...       1\n",
       "6378  /home/evgenii/Desktop/KneesOA/data/train/0/908...       0\n",
       "6379  /home/evgenii/Desktop/KneesOA/data/train/0/933...       0\n",
       "6380  /home/evgenii/Desktop/KneesOA/data/train/4/931...       4\n",
       "6381  /home/evgenii/Desktop/KneesOA/data/train/0/995...       0\n",
       "\n",
       "[6382 rows x 2 columns]"
      ]
     },
     "execution_count": 54,
     "metadata": {},
     "output_type": "execute_result"
    }
   ],
   "source": [
    "gen_split(train_data_path)"
   ]
  },
  {
   "cell_type": "code",
   "execution_count": 55,
   "id": "8162a789",
   "metadata": {
    "pycharm": {
     "name": "#%%\n"
    }
   },
   "outputs": [
    {
     "data": {
      "text/html": [
       "<div>\n",
       "<style scoped>\n",
       "    .dataframe tbody tr th:only-of-type {\n",
       "        vertical-align: middle;\n",
       "    }\n",
       "\n",
       "    .dataframe tbody tr th {\n",
       "        vertical-align: top;\n",
       "    }\n",
       "\n",
       "    .dataframe thead th {\n",
       "        text-align: right;\n",
       "    }\n",
       "</style>\n",
       "<table border=\"1\" class=\"dataframe\">\n",
       "  <thead>\n",
       "    <tr style=\"text-align: right;\">\n",
       "      <th></th>\n",
       "      <th>img_path</th>\n",
       "      <th>target</th>\n",
       "    </tr>\n",
       "  </thead>\n",
       "  <tbody>\n",
       "    <tr>\n",
       "      <th>0</th>\n",
       "      <td>/home/evgenii/Desktop/KneesOA/data/test/2/9322...</td>\n",
       "      <td>2</td>\n",
       "    </tr>\n",
       "    <tr>\n",
       "      <th>1</th>\n",
       "      <td>/home/evgenii/Desktop/KneesOA/data/test/0/9970...</td>\n",
       "      <td>0</td>\n",
       "    </tr>\n",
       "    <tr>\n",
       "      <th>2</th>\n",
       "      <td>/home/evgenii/Desktop/KneesOA/data/test/1/9437...</td>\n",
       "      <td>1</td>\n",
       "    </tr>\n",
       "    <tr>\n",
       "      <th>3</th>\n",
       "      <td>/home/evgenii/Desktop/KneesOA/data/test/3/9075...</td>\n",
       "      <td>3</td>\n",
       "    </tr>\n",
       "    <tr>\n",
       "      <th>4</th>\n",
       "      <td>/home/evgenii/Desktop/KneesOA/data/test/1/9157...</td>\n",
       "      <td>1</td>\n",
       "    </tr>\n",
       "    <tr>\n",
       "      <th>...</th>\n",
       "      <td>...</td>\n",
       "      <td>...</td>\n",
       "    </tr>\n",
       "    <tr>\n",
       "      <th>1651</th>\n",
       "      <td>/home/evgenii/Desktop/KneesOA/data/test/1/9771...</td>\n",
       "      <td>1</td>\n",
       "    </tr>\n",
       "    <tr>\n",
       "      <th>1652</th>\n",
       "      <td>/home/evgenii/Desktop/KneesOA/data/test/4/9144...</td>\n",
       "      <td>4</td>\n",
       "    </tr>\n",
       "    <tr>\n",
       "      <th>1653</th>\n",
       "      <td>/home/evgenii/Desktop/KneesOA/data/test/0/9242...</td>\n",
       "      <td>0</td>\n",
       "    </tr>\n",
       "    <tr>\n",
       "      <th>1654</th>\n",
       "      <td>/home/evgenii/Desktop/KneesOA/data/test/3/9646...</td>\n",
       "      <td>3</td>\n",
       "    </tr>\n",
       "    <tr>\n",
       "      <th>1655</th>\n",
       "      <td>/home/evgenii/Desktop/KneesOA/data/test/2/9722...</td>\n",
       "      <td>2</td>\n",
       "    </tr>\n",
       "  </tbody>\n",
       "</table>\n",
       "<p>1656 rows × 2 columns</p>\n",
       "</div>"
      ],
      "text/plain": [
       "                                               img_path  target\n",
       "0     /home/evgenii/Desktop/KneesOA/data/test/2/9322...       2\n",
       "1     /home/evgenii/Desktop/KneesOA/data/test/0/9970...       0\n",
       "2     /home/evgenii/Desktop/KneesOA/data/test/1/9437...       1\n",
       "3     /home/evgenii/Desktop/KneesOA/data/test/3/9075...       3\n",
       "4     /home/evgenii/Desktop/KneesOA/data/test/1/9157...       1\n",
       "...                                                 ...     ...\n",
       "1651  /home/evgenii/Desktop/KneesOA/data/test/1/9771...       1\n",
       "1652  /home/evgenii/Desktop/KneesOA/data/test/4/9144...       4\n",
       "1653  /home/evgenii/Desktop/KneesOA/data/test/0/9242...       0\n",
       "1654  /home/evgenii/Desktop/KneesOA/data/test/3/9646...       3\n",
       "1655  /home/evgenii/Desktop/KneesOA/data/test/2/9722...       2\n",
       "\n",
       "[1656 rows x 2 columns]"
      ]
     },
     "execution_count": 55,
     "metadata": {},
     "output_type": "execute_result"
    }
   ],
   "source": [
    "gen_split(test_data_path)"
   ]
  },
  {
   "cell_type": "code",
   "execution_count": 56,
   "id": "ca036e7e",
   "metadata": {
    "pycharm": {
     "name": "#%%\n"
    }
   },
   "outputs": [
    {
     "data": {
      "text/html": [
       "<div>\n",
       "<style scoped>\n",
       "    .dataframe tbody tr th:only-of-type {\n",
       "        vertical-align: middle;\n",
       "    }\n",
       "\n",
       "    .dataframe tbody tr th {\n",
       "        vertical-align: top;\n",
       "    }\n",
       "\n",
       "    .dataframe thead th {\n",
       "        text-align: right;\n",
       "    }\n",
       "</style>\n",
       "<table border=\"1\" class=\"dataframe\">\n",
       "  <thead>\n",
       "    <tr style=\"text-align: right;\">\n",
       "      <th></th>\n",
       "      <th>img_path</th>\n",
       "      <th>target</th>\n",
       "    </tr>\n",
       "  </thead>\n",
       "  <tbody>\n",
       "    <tr>\n",
       "      <th>0</th>\n",
       "      <td>/home/evgenii/Desktop/KneesOA/data/val/1/99622...</td>\n",
       "      <td>1</td>\n",
       "    </tr>\n",
       "    <tr>\n",
       "      <th>1</th>\n",
       "      <td>/home/evgenii/Desktop/KneesOA/data/val/1/93314...</td>\n",
       "      <td>1</td>\n",
       "    </tr>\n",
       "    <tr>\n",
       "      <th>2</th>\n",
       "      <td>/home/evgenii/Desktop/KneesOA/data/val/2/96379...</td>\n",
       "      <td>2</td>\n",
       "    </tr>\n",
       "    <tr>\n",
       "      <th>3</th>\n",
       "      <td>/home/evgenii/Desktop/KneesOA/data/val/1/90757...</td>\n",
       "      <td>1</td>\n",
       "    </tr>\n",
       "    <tr>\n",
       "      <th>4</th>\n",
       "      <td>/home/evgenii/Desktop/KneesOA/data/val/2/93733...</td>\n",
       "      <td>2</td>\n",
       "    </tr>\n",
       "    <tr>\n",
       "      <th>...</th>\n",
       "      <td>...</td>\n",
       "      <td>...</td>\n",
       "    </tr>\n",
       "    <tr>\n",
       "      <th>821</th>\n",
       "      <td>/home/evgenii/Desktop/KneesOA/data/val/3/92174...</td>\n",
       "      <td>3</td>\n",
       "    </tr>\n",
       "    <tr>\n",
       "      <th>822</th>\n",
       "      <td>/home/evgenii/Desktop/KneesOA/data/val/3/99165...</td>\n",
       "      <td>3</td>\n",
       "    </tr>\n",
       "    <tr>\n",
       "      <th>823</th>\n",
       "      <td>/home/evgenii/Desktop/KneesOA/data/val/0/98911...</td>\n",
       "      <td>0</td>\n",
       "    </tr>\n",
       "    <tr>\n",
       "      <th>824</th>\n",
       "      <td>/home/evgenii/Desktop/KneesOA/data/val/0/99968...</td>\n",
       "      <td>0</td>\n",
       "    </tr>\n",
       "    <tr>\n",
       "      <th>825</th>\n",
       "      <td>/home/evgenii/Desktop/KneesOA/data/val/2/96863...</td>\n",
       "      <td>2</td>\n",
       "    </tr>\n",
       "  </tbody>\n",
       "</table>\n",
       "<p>826 rows × 2 columns</p>\n",
       "</div>"
      ],
      "text/plain": [
       "                                              img_path  target\n",
       "0    /home/evgenii/Desktop/KneesOA/data/val/1/99622...       1\n",
       "1    /home/evgenii/Desktop/KneesOA/data/val/1/93314...       1\n",
       "2    /home/evgenii/Desktop/KneesOA/data/val/2/96379...       2\n",
       "3    /home/evgenii/Desktop/KneesOA/data/val/1/90757...       1\n",
       "4    /home/evgenii/Desktop/KneesOA/data/val/2/93733...       2\n",
       "..                                                 ...     ...\n",
       "821  /home/evgenii/Desktop/KneesOA/data/val/3/92174...       3\n",
       "822  /home/evgenii/Desktop/KneesOA/data/val/3/99165...       3\n",
       "823  /home/evgenii/Desktop/KneesOA/data/val/0/98911...       0\n",
       "824  /home/evgenii/Desktop/KneesOA/data/val/0/99968...       0\n",
       "825  /home/evgenii/Desktop/KneesOA/data/val/2/96863...       2\n",
       "\n",
       "[826 rows x 2 columns]"
      ]
     },
     "execution_count": 56,
     "metadata": {},
     "output_type": "execute_result"
    }
   ],
   "source": [
    "gen_split(val_data_path)"
   ]
  },
  {
   "cell_type": "code",
   "execution_count": null,
   "id": "ac9640a1",
   "metadata": {
    "pycharm": {
     "name": "#%%\n"
    }
   },
   "outputs": [],
   "source": []
  }
 ],
 "metadata": {
  "kernelspec": {
   "display_name": "Python 3",
   "language": "python",
   "name": "python3"
  },
  "language_info": {
   "codemirror_mode": {
    "name": "ipython",
    "version": 3
   },
   "file_extension": ".py",
   "mimetype": "text/x-python",
   "name": "python",
   "nbconvert_exporter": "python",
   "pygments_lexer": "ipython3",
   "version": "3.8.0"
  }
 },
 "nbformat": 4,
 "nbformat_minor": 5
}